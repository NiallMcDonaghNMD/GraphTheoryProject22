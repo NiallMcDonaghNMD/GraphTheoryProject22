{
 "cells": [
  {
   "cell_type": "markdown",
   "id": "4014d734",
   "metadata": {},
   "source": [
    "<h1>Graph Isomorphism problem - what is it?</h1>\n",
    "\n"
   ]
  },
  {
   "cell_type": "markdown",
   "id": "09f438be",
   "metadata": {},
   "source": [
    "In lamens terms, the Graph Isomorphism problem is a computational problem in how to compare that two graphs are the same (identical).\n"
   ]
  },
  {
   "cell_type": "markdown",
   "id": "9bdd2cf6",
   "metadata": {},
   "source": [
    "REFERENCE - https://cacm.acm.org/magazines/2020/11/248220-the-graph-isomorphism-problem/fulltext - By Martin Grohe, Pascal Schweitzer\n",
    "Communications of the ACM, November 2020, Vol. 63 No. 11, Pages 128-134\n",
    "10.1145/3372123"
   ]
  },
  {
   "attachments": {},
   "cell_type": "markdown",
   "id": "db86e622",
   "metadata": {},
   "source": [
    "This problem affects several areas of study and work. Including chemistry and graph work. \n",
    "\n",
    "<h2>Why is this an issue?</h2>\n",
    "\n",
    "Permutations, primarily. The bigger the graph or set of potential data the amount of permutations increase. A Permutation from the Oxford Dictionary is a number of different ways in which a set of things can be ordered.\n",
    "\n",
    "In a simple example, if you have 4 different objects, like pieces of food on a table, and want to see how many ways you can re-arrange them. In this case you want to arrange them 4 different ways.\n",
    "\n",
    "This is calculated by the following equation:\n",
    "\n",
    "\n"
   ]
  },
  {
   "attachments": {
    "permutationsImage.PNG": {
     "image/png": "[encoded data removed]"
    }
   },
   "cell_type": "markdown",
   "id": "4f32c32f",
   "metadata": {},
   "source": [
    "![permutationsImage.PNG](attachment:permutationsImage.PNG)"
   ]
  },
  {
   "attachments": {},
   "cell_type": "markdown",
   "id": "8c232766",
   "metadata": {},
   "source": [
    "```\n",
    "Where n is the amount of entities and r is the sample size, in this case n is 4 and r is 3\n",
    "\n",
    "P in this case would be 24. Because 4x3x2x1 = 24\n",
    "\n",
    "You can manually achieve this outcome by following the below example:\n",
    "```\n",
    "\n",
    "\n",
    "\n",
    "\n",
    "\n"
   ]
  },
  {
   "attachments": {
    "permutationsEXAMPLE1.PNG": {
     "image/png": "[encoded data removed]"
    }
   },
   "cell_type": "markdown",
   "id": "44f885ac",
   "metadata": {},
   "source": [
    "![permutationsEXAMPLE1.PNG](attachment:permutationsEXAMPLE1.PNG) (Source : https://www.dcode.fr/permutations-generator\n",
    ")"
   ]
  },
  {
   "cell_type": "markdown",
   "id": "fa0a078e",
   "metadata": {},
   "source": [
    "In an not so unusual example, if you have 20 sets of data and want to compare it to another set of 10,000 data. You will end up with a permutation of 20 which equals 2432902008176640000 number of comparisons you must make.\n",
    "\n",
    "<h2>What constitutes Isomorphic?</h2>\n",
    "\n",
    "In order for a graph to be considered Isomorphic, the compared graph must have the following conditions  be met:\n",
    "\n",
    " - The same number of vertices\n",
    " - The same number of edges\n",
    " - The same edge connectivity"
   ]
  },
  {
   "cell_type": "code",
   "execution_count": 29,
   "id": "86ea7588",
   "metadata": {},
   "outputs": [
    {
     "data": {
      "image/png": "[encoded data removed]",
      "text/plain": [
       "<Figure size 432x288 with 1 Axes>"
      ]
     },
     "metadata": {},
     "output_type": "display_data"
    }
   ],
   "source": [
    "#Sample code from https://networkx.org/documentation/latest/auto_examples/basic/plot_simple_graph.html\n",
    "import networkx as nx\n",
    "import matplotlib.pyplot as plt\n",
    "\n",
    "G = nx.Graph()\n",
    "G.add_edge(1, 2)\n",
    "G.add_edge(1, 3)\n",
    "G.add_edge(1, 5)\n",
    "G.add_edge(2, 3)\n",
    "G.add_edge(3, 4)\n",
    "G.add_edge(4, 5)\n",
    "\n",
    "# explicitly set positions\n",
    "#pos = {1: (0, 500), 2: (-1, 0.200), 3: (200, 0.125), 4: (4, 1000), 5: (5, 15000)}\n",
    "\n",
    "options = {\n",
    "    \"font_size\": 36,\n",
    "    \"node_size\": 3000,\n",
    "    \"node_color\": \"white\",\n",
    "    \"edgecolors\": \"black\",\n",
    "    \"linewidths\": 5,\n",
    "    \"width\": 5,\n",
    "}\n",
    "nx.draw_networkx(G,  **options)\n",
    "\n",
    "# Set margins for the axes so that nodes aren't clipped\n",
    "ax = plt.gca()\n",
    "ax.margins(0.20)\n",
    "plt.axis(\"off\")\n",
    "plt.show()"
   ]
  },
  {
   "cell_type": "markdown",
   "id": "c51dc935",
   "metadata": {},
   "source": [
    "<h1>Graphs represented in data structures</h1>\n",
    "\n",
    "To describe what vertcies, edges and edge connectivity are I will use python to demonstrate a graph:\n"
   ]
  },
  {
   "cell_type": "markdown",
   "id": "4215e42e",
   "metadata": {},
   "source": [
    "<h1>Python function implementing an algorithm to determine if two graphs are isomorphic or not</h1>\n"
   ]
  },
  {
   "cell_type": "code",
   "execution_count": null,
   "id": "15e2cdc4",
   "metadata": {},
   "outputs": [],
   "source": []
  },
  {
   "cell_type": "markdown",
   "id": "28eb5d7c",
   "metadata": {},
   "source": [
    "<h1>Discussion of the computational complexity of the Graph Isomorphism Problem</h1>"
   ]
  },
  {
   "cell_type": "code",
   "execution_count": null,
   "id": "c854c2e3",
   "metadata": {},
   "outputs": [],
   "source": []
  }
 ],
 "metadata": {
  "kernelspec": {
   "display_name": "Python 3 (ipykernel)",
   "language": "python",
   "name": "python3"
  },
  "language_info": {
   "codemirror_mode": {
    "name": "ipython",
    "version": 3
   },
   "file_extension": ".py",
   "mimetype": "text/x-python",
   "name": "python",
   "nbconvert_exporter": "python",
   "pygments_lexer": "ipython3",
   "version": "3.9.7"
  }
 },
 "nbformat": 4,
 "nbformat_minor": 5
}
